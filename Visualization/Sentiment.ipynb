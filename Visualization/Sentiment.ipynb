{
 "cells": [
  {
   "cell_type": "code",
   "execution_count": 2,
   "id": "0f74b9fe",
   "metadata": {
    "scrolled": true
   },
   "outputs": [],
   "source": [
    "from textblob import TextBlob\n",
    "from textblob import Word\n",
    "import pandas as pd"
   ]
  },
  {
   "cell_type": "code",
   "execution_count": 79,
   "id": "28e020fc",
   "metadata": {},
   "outputs": [],
   "source": [
    "a = TextBlob(\"Darkness cannot drive out darkness; only light can do that. Hate cannot drive out hate; only love can do that.\")"
   ]
  },
  {
   "cell_type": "code",
   "execution_count": 80,
   "id": "bc84ca37",
   "metadata": {},
   "outputs": [
    {
     "data": {
      "text/plain": [
       "Sentiment(polarity=-0.1166666666666667, subjectivity=0.85)"
      ]
     },
     "execution_count": 80,
     "metadata": {},
     "output_type": "execute_result"
    }
   ],
   "source": [
    "#tester om citatet er negativitet/positivitet og subjektivitet/objektivitet\n",
    "a.sentiment"
   ]
  },
  {
   "cell_type": "code",
   "execution_count": 89,
   "id": "cfc2eeef",
   "metadata": {},
   "outputs": [
    {
     "data": {
      "text/plain": [
       "Sentiment(polarity=0.8, subjectivity=0.75)"
      ]
     },
     "execution_count": 89,
     "metadata": {},
     "output_type": "execute_result"
    }
   ],
   "source": [
    "TextBlob(\"Great\").sentiment"
   ]
  },
  {
   "cell_type": "code",
   "execution_count": 90,
   "id": "f8e52c26",
   "metadata": {},
   "outputs": [
    {
     "data": {
      "text/plain": [
       "Sentiment(polarity=-0.4, subjectivity=0.75)"
      ]
     },
     "execution_count": 90,
     "metadata": {},
     "output_type": "execute_result"
    }
   ],
   "source": [
    "TextBlob(\"Not Great\").sentiment"
   ]
  },
  {
   "cell_type": "code",
   "execution_count": 91,
   "id": "0c1a6638",
   "metadata": {},
   "outputs": [
    {
     "data": {
      "text/plain": [
       "Sentiment(polarity=1.0, subjectivity=0.9750000000000001)"
      ]
     },
     "execution_count": 91,
     "metadata": {},
     "output_type": "execute_result"
    }
   ],
   "source": [
    "TextBlob(\"Very Great\").sentiment"
   ]
  },
  {
   "cell_type": "code",
   "execution_count": 29,
   "id": "1f3fcde8",
   "metadata": {},
   "outputs": [
    {
     "data": {
      "text/plain": [
       "Sentiment(polarity=0.8, subjectivity=0.75)"
      ]
     },
     "execution_count": 29,
     "metadata": {},
     "output_type": "execute_result"
    }
   ],
   "source": [
    "TextBlob(\"i am great\").sentiment"
   ]
  },
  {
   "cell_type": "code",
   "execution_count": null,
   "id": "80ac681f",
   "metadata": {},
   "outputs": [],
   "source": []
  },
  {
   "cell_type": "code",
   "execution_count": 4,
   "id": "5f311e45",
   "metadata": {},
   "outputs": [
    {
     "data": {
      "text/html": [
       "<div>\n",
       "<style scoped>\n",
       "    .dataframe tbody tr th:only-of-type {\n",
       "        vertical-align: middle;\n",
       "    }\n",
       "\n",
       "    .dataframe tbody tr th {\n",
       "        vertical-align: top;\n",
       "    }\n",
       "\n",
       "    .dataframe thead th {\n",
       "        text-align: right;\n",
       "    }\n",
       "</style>\n",
       "<table border=\"1\" class=\"dataframe\">\n",
       "  <thead>\n",
       "    <tr style=\"text-align: right;\">\n",
       "      <th></th>\n",
       "      <th>Review</th>\n",
       "      <th>Rating</th>\n",
       "    </tr>\n",
       "  </thead>\n",
       "  <tbody>\n",
       "    <tr>\n",
       "      <th>0</th>\n",
       "      <td>nice hotel expensive parking got good deal sta...</td>\n",
       "      <td>4</td>\n",
       "    </tr>\n",
       "    <tr>\n",
       "      <th>1</th>\n",
       "      <td>ok nothing special charge diamond member hilto...</td>\n",
       "      <td>2</td>\n",
       "    </tr>\n",
       "    <tr>\n",
       "      <th>2</th>\n",
       "      <td>nice rooms not 4* experience hotel monaco seat...</td>\n",
       "      <td>3</td>\n",
       "    </tr>\n",
       "    <tr>\n",
       "      <th>3</th>\n",
       "      <td>unique, great stay, wonderful time hotel monac...</td>\n",
       "      <td>5</td>\n",
       "    </tr>\n",
       "    <tr>\n",
       "      <th>4</th>\n",
       "      <td>great stay great stay, went seahawk game aweso...</td>\n",
       "      <td>5</td>\n",
       "    </tr>\n",
       "    <tr>\n",
       "      <th>...</th>\n",
       "      <td>...</td>\n",
       "      <td>...</td>\n",
       "    </tr>\n",
       "    <tr>\n",
       "      <th>20486</th>\n",
       "      <td>best kept secret 3rd time staying charm, not 5...</td>\n",
       "      <td>5</td>\n",
       "    </tr>\n",
       "    <tr>\n",
       "      <th>20487</th>\n",
       "      <td>great location price view hotel great quick pl...</td>\n",
       "      <td>4</td>\n",
       "    </tr>\n",
       "    <tr>\n",
       "      <th>20488</th>\n",
       "      <td>ok just looks nice modern outside, desk staff ...</td>\n",
       "      <td>2</td>\n",
       "    </tr>\n",
       "    <tr>\n",
       "      <th>20489</th>\n",
       "      <td>hotel theft ruined vacation hotel opened sept ...</td>\n",
       "      <td>1</td>\n",
       "    </tr>\n",
       "    <tr>\n",
       "      <th>20490</th>\n",
       "      <td>people talking, ca n't believe excellent ratin...</td>\n",
       "      <td>2</td>\n",
       "    </tr>\n",
       "  </tbody>\n",
       "</table>\n",
       "<p>20491 rows × 2 columns</p>\n",
       "</div>"
      ],
      "text/plain": [
       "                                                  Review  Rating\n",
       "0      nice hotel expensive parking got good deal sta...       4\n",
       "1      ok nothing special charge diamond member hilto...       2\n",
       "2      nice rooms not 4* experience hotel monaco seat...       3\n",
       "3      unique, great stay, wonderful time hotel monac...       5\n",
       "4      great stay great stay, went seahawk game aweso...       5\n",
       "...                                                  ...     ...\n",
       "20486  best kept secret 3rd time staying charm, not 5...       5\n",
       "20487  great location price view hotel great quick pl...       4\n",
       "20488  ok just looks nice modern outside, desk staff ...       2\n",
       "20489  hotel theft ruined vacation hotel opened sept ...       1\n",
       "20490  people talking, ca n't believe excellent ratin...       2\n",
       "\n",
       "[20491 rows x 2 columns]"
      ]
     },
     "execution_count": 4,
     "metadata": {},
     "output_type": "execute_result"
    }
   ],
   "source": [
    "df = pd.read_csv(\"tripadvisor_hotel_reviews.csv\")\n",
    "df"
   ]
  },
  {
   "cell_type": "code",
   "execution_count": 6,
   "id": "bbc80cf9",
   "metadata": {},
   "outputs": [],
   "source": [
    "pol = lambda x: TextBlob(x).sentiment.polarity\n",
    "sub = lambda x: TextBlob(x).sentiment.subjectivity"
   ]
  },
  {
   "cell_type": "code",
   "execution_count": 7,
   "id": "8105409e",
   "metadata": {},
   "outputs": [],
   "source": [
    "df['polarity'] = df['Review'].apply(pol)\n",
    "df['subjectivity'] = df['Review'].apply(sub)\n"
   ]
  },
  {
   "cell_type": "code",
   "execution_count": 8,
   "id": "4c696a93",
   "metadata": {},
   "outputs": [
    {
     "data": {
      "text/html": [
       "<div>\n",
       "<style scoped>\n",
       "    .dataframe tbody tr th:only-of-type {\n",
       "        vertical-align: middle;\n",
       "    }\n",
       "\n",
       "    .dataframe tbody tr th {\n",
       "        vertical-align: top;\n",
       "    }\n",
       "\n",
       "    .dataframe thead th {\n",
       "        text-align: right;\n",
       "    }\n",
       "</style>\n",
       "<table border=\"1\" class=\"dataframe\">\n",
       "  <thead>\n",
       "    <tr style=\"text-align: right;\">\n",
       "      <th></th>\n",
       "      <th>Review</th>\n",
       "      <th>Rating</th>\n",
       "      <th>polarity</th>\n",
       "      <th>subjectivity</th>\n",
       "    </tr>\n",
       "  </thead>\n",
       "  <tbody>\n",
       "    <tr>\n",
       "      <th>11684</th>\n",
       "      <td>good value quiet train station really enjoyed ...</td>\n",
       "      <td>4</td>\n",
       "      <td>0.254718</td>\n",
       "      <td>0.463051</td>\n",
       "    </tr>\n",
       "    <tr>\n",
       "      <th>14754</th>\n",
       "      <td>looks deceiving terms all-inclusive resorts su...</td>\n",
       "      <td>2</td>\n",
       "      <td>0.117177</td>\n",
       "      <td>0.587906</td>\n",
       "    </tr>\n",
       "    <tr>\n",
       "      <th>4939</th>\n",
       "      <td>nh city centre better stay twice, 4 star hotel...</td>\n",
       "      <td>5</td>\n",
       "      <td>0.084896</td>\n",
       "      <td>0.667708</td>\n",
       "    </tr>\n",
       "    <tr>\n",
       "      <th>7366</th>\n",
       "      <td>clean place friendly staff won bid hotel price...</td>\n",
       "      <td>4</td>\n",
       "      <td>0.322475</td>\n",
       "      <td>0.537037</td>\n",
       "    </tr>\n",
       "    <tr>\n",
       "      <th>14926</th>\n",
       "      <td>fab hotel, great hotel, easy quiet designed in...</td>\n",
       "      <td>5</td>\n",
       "      <td>0.329167</td>\n",
       "      <td>0.508333</td>\n",
       "    </tr>\n",
       "    <tr>\n",
       "      <th>19286</th>\n",
       "      <td>cheap cheerful stayed travelodge barcelona jul...</td>\n",
       "      <td>3</td>\n",
       "      <td>0.388889</td>\n",
       "      <td>0.694444</td>\n",
       "    </tr>\n",
       "    <tr>\n",
       "      <th>10667</th>\n",
       "      <td>hotel fita wonderful stayed hotel fita 4 night...</td>\n",
       "      <td>5</td>\n",
       "      <td>0.436275</td>\n",
       "      <td>0.666667</td>\n",
       "    </tr>\n",
       "    <tr>\n",
       "      <th>5759</th>\n",
       "      <td>good soft beds overall nice hotel wonderful se...</td>\n",
       "      <td>4</td>\n",
       "      <td>0.288889</td>\n",
       "      <td>0.511111</td>\n",
       "    </tr>\n",
       "    <tr>\n",
       "      <th>14408</th>\n",
       "      <td>loved antiche figure husband stayed hotel end ...</td>\n",
       "      <td>5</td>\n",
       "      <td>0.326299</td>\n",
       "      <td>0.728355</td>\n",
       "    </tr>\n",
       "    <tr>\n",
       "      <th>3289</th>\n",
       "      <td>good hotel not great wife 18 year old son retu...</td>\n",
       "      <td>3</td>\n",
       "      <td>0.299946</td>\n",
       "      <td>0.496645</td>\n",
       "    </tr>\n",
       "  </tbody>\n",
       "</table>\n",
       "</div>"
      ],
      "text/plain": [
       "                                                  Review  Rating  polarity  \\\n",
       "11684  good value quiet train station really enjoyed ...       4  0.254718   \n",
       "14754  looks deceiving terms all-inclusive resorts su...       2  0.117177   \n",
       "4939   nh city centre better stay twice, 4 star hotel...       5  0.084896   \n",
       "7366   clean place friendly staff won bid hotel price...       4  0.322475   \n",
       "14926  fab hotel, great hotel, easy quiet designed in...       5  0.329167   \n",
       "19286  cheap cheerful stayed travelodge barcelona jul...       3  0.388889   \n",
       "10667  hotel fita wonderful stayed hotel fita 4 night...       5  0.436275   \n",
       "5759   good soft beds overall nice hotel wonderful se...       4  0.288889   \n",
       "14408  loved antiche figure husband stayed hotel end ...       5  0.326299   \n",
       "3289   good hotel not great wife 18 year old son retu...       3  0.299946   \n",
       "\n",
       "       subjectivity  \n",
       "11684      0.463051  \n",
       "14754      0.587906  \n",
       "4939       0.667708  \n",
       "7366       0.537037  \n",
       "14926      0.508333  \n",
       "19286      0.694444  \n",
       "10667      0.666667  \n",
       "5759       0.511111  \n",
       "14408      0.728355  \n",
       "3289       0.496645  "
      ]
     },
     "execution_count": 8,
     "metadata": {},
     "output_type": "execute_result"
    }
   ],
   "source": [
    "df.sample(10)"
   ]
  },
  {
   "cell_type": "code",
   "execution_count": null,
   "id": "d15c3ee1",
   "metadata": {},
   "outputs": [],
   "source": []
  },
  {
   "cell_type": "code",
   "execution_count": null,
   "id": "fcda208d",
   "metadata": {},
   "outputs": [],
   "source": []
  }
 ],
 "metadata": {
  "kernelspec": {
   "display_name": "Python 3 (ipykernel)",
   "language": "python",
   "name": "python3"
  },
  "language_info": {
   "codemirror_mode": {
    "name": "ipython",
    "version": 3
   },
   "file_extension": ".py",
   "mimetype": "text/x-python",
   "name": "python",
   "nbconvert_exporter": "python",
   "pygments_lexer": "ipython3",
   "version": "3.9.7"
  }
 },
 "nbformat": 4,
 "nbformat_minor": 5
}
