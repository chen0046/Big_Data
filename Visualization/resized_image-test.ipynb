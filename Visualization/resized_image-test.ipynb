{
 "cells": [
  {
   "cell_type": "code",
   "execution_count": 1,
   "id": "9e03e39f",
   "metadata": {},
   "outputs": [],
   "source": [
    "from PIL import Image\n",
    "import glob"
   ]
  },
  {
   "cell_type": "code",
   "execution_count": 3,
   "id": "92e2af7a",
   "metadata": {},
   "outputs": [],
   "source": [
    "image_list = []\n",
    "resized_images =[]\n"
   ]
  },
  {
   "cell_type": "code",
   "execution_count": 4,
   "id": "7a9c0de3",
   "metadata": {},
   "outputs": [
    {
     "name": "stdout",
     "output_type": "stream",
     "text": [
      "C:/TensorFlowCard/models/research/object_detection/images/test\\IMG_3918.jpg\n",
      "C:/TensorFlowCard/models/research/object_detection/images/test\\IMG_3919.jpg\n",
      "C:/TensorFlowCard/models/research/object_detection/images/test\\IMG_3920.jpg\n",
      "C:/TensorFlowCard/models/research/object_detection/images/test\\IMG_3921.jpg\n",
      "C:/TensorFlowCard/models/research/object_detection/images/test\\IMG_3922.jpg\n",
      "C:/TensorFlowCard/models/research/object_detection/images/test\\IMG_3923.jpg\n",
      "C:/TensorFlowCard/models/research/object_detection/images/test\\IMG_3924.jpg\n",
      "C:/TensorFlowCard/models/research/object_detection/images/test\\IMG_3925.jpg\n",
      "C:/TensorFlowCard/models/research/object_detection/images/test\\IMG_3926.jpg\n",
      "C:/TensorFlowCard/models/research/object_detection/images/test\\IMG_3927.jpg\n",
      "C:/TensorFlowCard/models/research/object_detection/images/test\\IMG_3928.jpg\n",
      "C:/TensorFlowCard/models/research/object_detection/images/test\\IMG_3929.jpg\n",
      "C:/TensorFlowCard/models/research/object_detection/images/test\\IMG_3930.jpg\n",
      "C:/TensorFlowCard/models/research/object_detection/images/test\\IMG_3931.jpg\n",
      "C:/TensorFlowCard/models/research/object_detection/images/test\\IMG_3932.jpg\n",
      "C:/TensorFlowCard/models/research/object_detection/images/test\\IMG_3933.jpg\n",
      "C:/TensorFlowCard/models/research/object_detection/images/test\\IMG_3934.jpg\n",
      "C:/TensorFlowCard/models/research/object_detection/images/test\\IMG_3935.jpg\n",
      "C:/TensorFlowCard/models/research/object_detection/images/test\\IMG_3936.jpg\n",
      "C:/TensorFlowCard/models/research/object_detection/images/test\\IMG_3937.jpg\n"
     ]
    }
   ],
   "source": [
    "for filename in glob.glob('C:/TensorFlowCard/models/research/object_detection/images/test/*jpg'):\n",
    "                          print(filename)\n",
    "                          img = Image.open(filename)\n",
    "                          image_list.append(img)"
   ]
  },
  {
   "cell_type": "code",
   "execution_count": 6,
   "id": "78ca3446",
   "metadata": {},
   "outputs": [],
   "source": [
    "for image in image_list:\n",
    "    image = image.resize((360,450))\n",
    "    resized_images.append(image) "
   ]
  },
  {
   "cell_type": "code",
   "execution_count": 7,
   "id": "ff675090",
   "metadata": {},
   "outputs": [],
   "source": [
    "for(i, new) in enumerate(resized_images):\n",
    "    new.save('{}{}{}'.format('C:/TensorFlowCard/models/research/object_detection/images/test/image',i+1,'.jpg'))"
   ]
  },
  {
   "cell_type": "code",
   "execution_count": null,
   "id": "991a6ab0",
   "metadata": {},
   "outputs": [],
   "source": []
  }
 ],
 "metadata": {
  "kernelspec": {
   "display_name": "Python 3 (ipykernel)",
   "language": "python",
   "name": "python3"
  },
  "language_info": {
   "codemirror_mode": {
    "name": "ipython",
    "version": 3
   },
   "file_extension": ".py",
   "mimetype": "text/x-python",
   "name": "python",
   "nbconvert_exporter": "python",
   "pygments_lexer": "ipython3",
   "version": "3.9.7"
  }
 },
 "nbformat": 4,
 "nbformat_minor": 5
}
